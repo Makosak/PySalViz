{
 "cells": [
  {
   "cell_type": "code",
   "execution_count": 21,
   "metadata": {
    "collapsed": false
   },
   "outputs": [],
   "source": [
    "%matplotlib inline\n",
    "import pysal as ps  # 1.5 or higher\n",
    "import numpy as np  # 1.7 or higher\n",
    "import pandas as pd # 0.10 or higher\n",
    "import matplotlib\n",
    "from matplotlib.pyplot import *\n",
    "import matplotlib.pyplot as plt\n",
    "from sklearn.datasets import load_iris"
   ]
  },
  {
   "cell_type": "code",
   "execution_count": 23,
   "metadata": {
    "collapsed": false
   },
   "outputs": [],
   "source": [
    "import mpld3\n",
    "from mpld3 import plugins, utils"
   ]
  },
  {
   "cell_type": "code",
   "execution_count": null,
   "metadata": {
    "collapsed": false
   },
   "outputs": [],
   "source": [
    "data = load_iris()\n",
    "X = data.data\n",
    "y = data.target\n",
    "\n",
    "# dither the data for clearer plotting\n",
    "X += 0.1 * np.random.random(X.shape)\n",
    "\n",
    "fig, ax = plt.subplots(4, 4, sharex=\"col\", sharey=\"row\", figsize=(8, 8))\n",
    "fig.subplots_adjust(left=0.05, right=0.95, bottom=0.05, top=0.95,\n",
    "                    hspace=0.1, wspace=0.1)\n",
    "\n",
    "for i in range(4):\n",
    "    for j in range(4):\n",
    "        points = ax[3 - i, j].scatter(X[:, j], X[:, i],\n",
    "                                      c=y, s=40, alpha=0.6)\n",
    "\n",
    "# remove tick labels\n",
    "for axi in ax.flat:\n",
    "    for axis in [axi.xaxis, axi.yaxis]:\n",
    "        axis.set_major_formatter(plt.NullFormatter())\n",
    "\n",
    "# Here we connect the linked brush plugin\n",
    "plugins.connect(fig, plugins.LinkedBrush(points))\n",
    "\n",
    "mpld3.display()"
   ]
  },
  {
   "cell_type": "code",
   "execution_count": null,
   "metadata": {
    "collapsed": true
   },
   "outputs": [],
   "source": []
  }
 ],
 "metadata": {
  "kernelspec": {
   "display_name": "Python 2",
   "language": "python",
   "name": "python2"
  },
  "language_info": {
   "codemirror_mode": {
    "name": "ipython",
    "version": 2
   },
   "file_extension": ".py",
   "mimetype": "text/x-python",
   "name": "python",
   "nbconvert_exporter": "python",
   "pygments_lexer": "ipython2",
   "version": "2.7.11"
  }
 },
 "nbformat": 4,
 "nbformat_minor": 0
}
