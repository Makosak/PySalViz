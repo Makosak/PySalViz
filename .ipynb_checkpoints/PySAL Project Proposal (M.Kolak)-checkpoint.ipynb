{
 "cells": [
  {
   "cell_type": "markdown",
   "metadata": {},
   "source": [
    "# Project Proposal\n",
    "\n",
    "M. Kolak / February 10, 2016"
   ]
  },
  {
   "cell_type": "markdown",
   "metadata": {},
   "source": [
    "## Overview"
   ]
  },
  {
   "cell_type": "markdown",
   "metadata": {},
   "source": [
    "\n",
    "\n",
    "I propose an improved visualization module index and development of interactive visualization for the <a href=\"https://github.com/pysal/pysal/wiki/PySAL-Visualization-Project\"> PySAL Visualization module</a> as my GPH596 spatial statistics software research project. I will additionally explore aspects of further developing a PySAL Viz API to integrate PySAL visualization functions in dynamic web environments.\n",
    "These components build on the identified goals and roadmap identified in PySAL, as summarized in the Visualization Project module home."
   ]
  },
  {
   "cell_type": "markdown",
   "metadata": {},
   "source": [
    "## Documentation\n",
    "\n",
    "A code repository has been established at https://github.com/Makosak/PySalViz to serve as a home for planning, documentation, and organization of this project. This proposal is stored in that repository. Any updates to PySAL Viz Module code will be done in a forked PySAL repository."
   ]
  },
  {
   "cell_type": "markdown",
   "metadata": {},
   "source": [
    "## Tentative Workplan\n",
    "### Review and Indexing of Visualization Notebooks\n",
    "First, I will review, in depth, existing PySal Vizualization module code to identify the state of work. Multiple Notebooks have recently been added to the module;  I will review, replicate, and index their locations and visualization atributes. Some of these notebooks are not connected to the module directly, so this will take priority. (See vizualization-relevant notebooks <a href=\"https://github.com/pysal/notebooks/tree/master/notebooks\">here</a> and <a href=\"https://github.com/pysal/notebooks?files=1\">here</a>.) Following this review, I will further refine next benchmarks as needed. \n",
    "\n",
    "Timeframe: February 2015\n",
    "\n",
    "### Integrating Interactive Visualizations \n",
    "Following existing roadmap identified in the module, and as refined from the planning phase, I will then work on specific devlopments. My goal is to work on these building <b>interaction</b>, within jupyter notebooks, for these common views:\n",
    "<br>\n",
    "<br>\n",
    "<li> Mapping modules for choropleth maps </li>\n",
    "<li> LISA cluster map with description for non-spatial audience </li>\n",
    "<li> Directional LISA with rose diagram </li>\n",
    "\n",
    "My goal is to build on previous work by PySal developers\n",
    "I am particularly interested in improving matplotlib functionalities for notebook visualizations, and interested in further connecting aspects of plotly, folium, or other tools to enhance interactive capabilities.\n",
    "\n",
    "Timeframe: March - April 2015\n",
    "\n",
    "### PySAL Visualization API \n",
    "Following these, I am also very working on operationalizing features of the visualization module to integrate in dynamic environments. This may serve as an interplay with existing javascript and python libraries. \n",
    "\n",
    "The API would be tested in an ASU Chainbuilder environment for system architecture and workflow integration. I would like to use a web application prototype (currently served as http://makosak.github.io/chihealthaccess) as a testing interface for dynamic web app integration.\n",
    "\n",
    "This may be beyond the scope of this class, but I hope to at least establish a solid framework for future API development.\n",
    "\n",
    "Timeframe: May 2015+"
   ]
  },
  {
   "cell_type": "markdown",
   "metadata": {},
   "source": [
    "## Deliverables\n",
    "\n",
    "My goal is to complete deliverables during the last week of every month. Specifically:\n",
    "\n",
    "<b>Feb 2015: </b> Index of organized vizualization notebooks, Refined proposal & goals\n",
    "<br>\n",
    "<b>March 2015: </b> Research and testing of interactive viz in mapping module (notebook), Matplotlib map distortion improvements, Refined goals\n",
    "<br>\n",
    "<b>April 2015: </b> LISA interactive visualization notebooks, Documentation\n",
    "<br>\n",
    "<b>May 2015: </b> PySAL Viz API development documentation"
   ]
  },
  {
   "cell_type": "markdown",
   "metadata": {},
   "source": [
    "## ."
   ]
  }
 ],
 "metadata": {
  "kernelspec": {
   "display_name": "Python 2",
   "language": "python",
   "name": "python2"
  },
  "language_info": {
   "codemirror_mode": {
    "name": "ipython",
    "version": 2
   },
   "file_extension": ".py",
   "mimetype": "text/x-python",
   "name": "python",
   "nbconvert_exporter": "python",
   "pygments_lexer": "ipython2",
   "version": "2.7.11"
  }
 },
 "nbformat": 4,
 "nbformat_minor": 0
}
